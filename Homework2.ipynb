{
 "cells": [
  {
   "cell_type": "code",
   "execution_count": 1,
   "metadata": {},
   "outputs": [
    {
     "name": "stdout",
     "output_type": "stream",
     "text": [
      "Overwriting graph1.txt\n"
     ]
    }
   ],
   "source": [
    "#1.Define the consumption function and savings function\n",
    "%%file graph1.txt\n",
    "start, c0_0_s0_20 0, c0_10_s0_10 10, c0_20_s0_0 15\n",
    "c0_0_s0_20, c1_10_s1_20 10, c1_20_s1_10 15, c1_30_s1_0 17\n",
    "c0_10_s0_10, c1_10_s1_10 10, c1_20_s1_0 15, c1_0_s0_20 0 \n",
    "c0_20_s0_0, c1_10_s1_0 10, c1_0_s1_10 0\n",
    "c1_10_s1_20, c2_30_s2_0 17\n",
    "c1_20_s1_10, c2_20_s2_0 15\n",
    "c1_30_s1_0, c2_10_s2_0 10\n",
    "c1_10_s1_10, c2_20_s2_0 15\n",
    "c1_20_s1_0, c2_10_s2_0 10\n",
    "c1_0_s0_20, c2_30_s2_0 17\n",
    "c1_10_s1_0, c2_10_s2_0 10\n",
    "c1_0_s1_10, c2_20_s2_0 15\n",
    "c2_30_s2_0, final 0\n",
    "c2_20_s2_0, final 0\n",
    "c2_10_s2_0, final 0\n",
    "c2_20_s2_0, final 0\n",
    "c2_10_s2_0, final 0 \n",
    "c2_30_s2_0, final 0\n",
    "c2_10_s2_0, final 0\n",
    "c2_20_s2_0, final 0 \n",
    "final,  "
   ]
  },
  {
   "cell_type": "code",
   "execution_count": 2,
   "metadata": {},
   "outputs": [],
   "source": [
    "def read_graph(in_file):\n",
    "    graph = {}\n",
    "    infile = open(in_file)\n",
    "    for line in infile:\n",
    "        elements = line.split(',')\n",
    "        node = elements.pop(0)\n",
    "        graph[node] = []\n",
    "        if node != 'final':\n",
    "            for element in elements:\n",
    "                destination, cost = element.split()\n",
    "                graph[node].append((destination, float(cost)))\n",
    "    infile.close()\n",
    "    return graph"
   ]
  },
  {
   "cell_type": "code",
   "execution_count": 3,
   "metadata": {},
   "outputs": [],
   "source": [
    "#2.The Bellman operator (value function)\n",
    "def update_J(J, graph):\n",
    "    next_J = {}\n",
    "    for node in graph:\n",
    "        if node == 'final':\n",
    "            next_J[node] = 0\n",
    "        else:\n",
    "            next_J[node] = max(cost + beta*J[dest] for dest, cost in graph[node])\n",
    "    return next_J\n"
   ]
  },
  {
   "cell_type": "code",
   "execution_count": 4,
   "metadata": {},
   "outputs": [],
   "source": [
    "#3.calculate the path of maximal utility\n",
    "def print_best_path(J, graph):\n",
    "\n",
    "    sum_utility = 0\n",
    "    current_location = 'start'\n",
    "    current_location_2=[]\n",
    "    current_J=[]\n",
    "    while current_location != 'final':\n",
    "        running_min = 1e100  \n",
    "        for destination, utility in graph[current_location]:\n",
    "            utility_of_path = -(utility + J[destination])\n",
    "            if utility_of_path < running_min:\n",
    "                running_min = utility_of_path\n",
    "                maximizer_utility = utility\n",
    "                maximizer_dest = destination\n",
    "        current_location = maximizer_dest\n",
    "        sum_utility += maximizer_utility\n",
    "        current_location_2.append(current_location)\n",
    "        current_J.append(next_J[current_location])\n",
    "      \n",
    "       \n",
    "    del current_J[3]\n",
    "    del current_location_2[3]\n",
    "\n",
    "    print(\"when beta={}:\".format(beta))\n",
    "    print(\"when t=0,1,2 the best path is\",current_location_2)\n",
    "    print(\"when t=0,1,2 the value function is\",current_J)\n",
    "    print('Max of utility: ', sum_utility)"
   ]
  },
  {
   "cell_type": "code",
   "execution_count": 5,
   "metadata": {},
   "outputs": [
    {
     "name": "stdout",
     "output_type": "stream",
     "text": [
      "when beta=1:\n",
      "when t=0,1,2 the best path is ['c0_10_s0_10', 'c1_10_s1_10', 'c2_20_s2_0']\n",
      "when t=0,1,2 the value function is [25.0, 15.0, 0.0]\n",
      "Max of utility:  35.0\n"
     ]
    }
   ],
   "source": [
    "#when beta=1\n",
    "graph = read_graph('graph1.txt')\n",
    "M = 1e10\n",
    "J = {}\n",
    "beta=1\n",
    "for node in graph:\n",
    "    J[node] = M\n",
    "J['final'] = 0\n",
    "\n",
    "while True:\n",
    "    next_J = update_J(J, graph)\n",
    "    if next_J == J:\n",
    "        break\n",
    "    else:\n",
    "        J = next_J\n",
    "\n",
    "print_best_path(J, graph)"
   ]
  },
  {
   "cell_type": "code",
   "execution_count": 6,
   "metadata": {},
   "outputs": [
    {
     "name": "stdout",
     "output_type": "stream",
     "text": [
      "when beta=0.5:\n",
      "when t=0,1,2 the best path is ['c0_10_s0_10', 'c1_10_s1_10', 'c2_20_s2_0']\n",
      "when t=0,1,2 the value function is [20.0, 15.0, 0.0]\n",
      "Max of utility:  35.0\n"
     ]
    }
   ],
   "source": [
    "#when beta=2\n",
    "graph = read_graph('graph1.txt')\n",
    "M = 1e10\n",
    "J = {}\n",
    "beta=0.5\n",
    "for node in graph:\n",
    "    J[node] = M\n",
    "J['final'] = 0\n",
    "\n",
    "while True:\n",
    "    next_J = update_J(J, graph)\n",
    "    if next_J == J:\n",
    "        break\n",
    "    else:\n",
    "        J = next_J\n",
    "\n",
    "print_best_path(J, graph)"
   ]
  }
 ],
 "metadata": {
  "kernelspec": {
   "display_name": "Python 3",
   "language": "python",
   "name": "python3"
  },
  "language_info": {
   "codemirror_mode": {
    "name": "ipython",
    "version": 3
   },
   "file_extension": ".py",
   "mimetype": "text/x-python",
   "name": "python",
   "nbconvert_exporter": "python",
   "pygments_lexer": "ipython3",
   "version": "3.6.5"
  }
 },
 "nbformat": 4,
 "nbformat_minor": 2
}
